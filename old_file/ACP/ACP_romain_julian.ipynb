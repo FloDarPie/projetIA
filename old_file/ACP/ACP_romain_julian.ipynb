{
 "cells": [
  {
   "cell_type": "markdown",
   "metadata": {},
   "source": [
    "# Analyse en Composante Principale"
   ]
  },
  {
   "cell_type": "markdown",
   "metadata": {},
   "source": [
    "### Exercice 1 :  Voitures"
   ]
  },
  {
   "cell_type": "code",
   "execution_count": 2,
   "metadata": {},
   "outputs": [],
   "source": [
    "voitures={\"Alfasud\" : [1350 ,79 ,393, 161, 870 ,165],\n",
    "\"Audi\" : [1588, 85, 468, 177, 1110 ,160 ],\n",
    "\"Simca\"  : [1294 ,68, 424, 168, 1050 ,152 ],\n",
    "\"Citroen\"  : [1222, 59, 412, 161, 930 ,151 ],\n",
    "\"Fiat\" : [1585, 98, 439, 164,1105 ,165 ],\n",
    "\"Lancia\"  :[1297 ,82 ,429, 169, 1080 ,160 ],\n",
    "\"Peugeot\" :[ 1796, 79, 449 ,169, 1160 ,154 ],\n",
    "\"Renault16\" : [1565,55, 424, 163, 1010 ,140], \n",
    "\"Renault30\": [2664, 128, 452, 173, 1320,180], \n",
    "\"Toyota\" : [1166, 55 ,399, 157, 815, 140], \n",
    "\"Alfetta\" :[ 1570, 109, 428, 162, 1060, 175], \n",
    "\"Princess\" : [1798 ,82, 445, 172, 1160 ,158 ],\n",
    "\"Datsun\" :[1998 ,115, 469, 169, 1370 ,160 ],\n",
    "\"Taunus\" : [1993, 98 ,438 ,170, 1080 ,167 ],\n",
    "\"Rancho\" :[1442 ,80 ,431, 166, 1129, 144 ],\n",
    "\"Mazda\" :[1769 ,83,440,165 ,1095, 165 ],\n",
    "\"Opel\": [1979, 100 ,459 ,173, 1120 ,173], \n",
    "\"Lada\" : [1294, 68, 404 ,161, 955, 140] }"
   ]
  },
  {
   "cell_type": "code",
   "execution_count": 20,
   "metadata": {},
   "outputs": [
    {
     "name": "stdout",
     "output_type": "stream",
     "text": [
      "{'cylindrée': [1350, 1588, 1294, 1222, 1585, 1297, 1796, 1565, 2664, 1166, 1570, 1798, 1998, 1993, 1442, 1769, 1979, 1294], 'puissance': [79, 85, 68, 59, 98, 82, 79, 55, 128, 55, 109, 82, 115, 98, 80, 83, 100, 68], 'longueur': [393, 468, 424, 412, 439, 429, 449, 424, 452, 399, 428, 445, 469, 438, 431, 440, 459, 404], 'largeur': [161, 177, 168, 161, 164, 169, 169, 163, 173, 157, 162, 172, 169, 170, 166, 165, 173, 161], 'poids': [870, 1110, 1050, 930, 1105, 1080, 1160, 1010, 1320, 815, 1060, 1160, 1370, 1080, 1129, 1095, 1120, 955], 'vitesse max': [165, 160, 152, 151, 165, 160, 154, 140, 180, 140, 175, 158, 160, 167, 144, 165, 173, 140]}\n"
     ]
    }
   ],
   "source": [
    "# Définir sous forme d'un dictionnaire, les 6 variables (cylindrée, puissance, longueur, largeur, poids, vitesse max)\n",
    "var =['cylindrée','puissance','longueur','largeur','poids','vitesse max']\n",
    "\n",
    "variables = {va:[] for va in var}\n",
    "\n",
    "for i in range(6):\n",
    "    for voit in voitures:\n",
    "        variables[var[i]].append(voitures[voit][i])\n",
    "\n",
    "print(variables)"
   ]
  },
  {
   "cell_type": "code",
   "execution_count": 25,
   "metadata": {},
   "outputs": [
    {
     "data": {
      "image/png": "[encoded data removed]",
      "text/plain": [
       "<Figure size 432x288 with 1 Axes>"
      ]
     },
     "metadata": {
      "needs_background": "light"
     },
     "output_type": "display_data"
    }
   ],
   "source": [
    "#Représenter quelques corrélations entre couples de variables\n",
    "import matplotlib\n",
    "import matplotlib.pyplot as plt\n",
    "\n",
    "plt.scatter(variables['puissance'],variables['vitesse max'])\n",
    "plt.show()"
   ]
  },
  {
   "cell_type": "code",
   "execution_count": 27,
   "metadata": {},
   "outputs": [
    {
     "data": {
      "image/png": "[encoded data removed]",
      "text/plain": [
       "<Figure size 432x288 with 1 Axes>"
      ]
     },
     "metadata": {
      "needs_background": "light"
     },
     "output_type": "display_data"
    }
   ],
   "source": [
    "plt.scatter(variables['longueur'],variables['largeur'])\n",
    "plt.show()"
   ]
  },
  {
   "cell_type": "code",
   "execution_count": 29,
   "metadata": {},
   "outputs": [
    {
     "data": {
      "image/png": "[encoded data removed]",
      "text/plain": [
       "<Figure size 432x288 with 1 Axes>"
      ]
     },
     "metadata": {
      "needs_background": "light"
     },
     "output_type": "display_data"
    }
   ],
   "source": [
    "plt.scatter(variables['puissance'],variables['cylindrée'])\n",
    "plt.show()"
   ]
  },
  {
   "cell_type": "code",
   "execution_count": 57,
   "metadata": {
    "collapsed": true
   },
   "outputs": [],
   "source": [
    "# C'est parti pour l'Analyse en Composante Principale\n"
   ]
  },
  {
   "cell_type": "code",
   "execution_count": 66,
   "metadata": {},
   "outputs": [
    {
     "data": {
      "text/html": [
       "<html><script type=\"math/tex; mode=display\">\\newcommand{\\Bold}[1]{\\mathbf{#1}}\\left(\\begin{array}{rrrrrr}\n",
       "1.0 & 0.80 & 0.70 & 0.63 & 0.79 & 0.67 \\\\\n",
       "0.80 & 1.0 & 0.64 & 0.52 & 0.77 & 0.84 \\\\\n",
       "0.70 & 0.64 & 1.0 & 0.85 & 0.87 & 0.48 \\\\\n",
       "0.63 & 0.52 & 0.85 & 1.0 & 0.72 & 0.47 \\\\\n",
       "0.79 & 0.77 & 0.87 & 0.72 & 1.0 & 0.48 \\\\\n",
       "0.67 & 0.84 & 0.48 & 0.47 & 0.48 & 1.0\n",
       "\\end{array}\\right)</script></html>"
      ],
      "text/latex": [
       "\\begin{math}\n",
       "\\newcommand{\\Bold}[1]{\\mathbf{#1}}\\left(\\begin{array}{rrrrrr}\n",
       "1.0 & 0.80 & 0.70 & 0.63 & 0.79 & 0.67 \\\\\n",
       "0.80 & 1.0 & 0.64 & 0.52 & 0.77 & 0.84 \\\\\n",
       "0.70 & 0.64 & 1.0 & 0.85 & 0.87 & 0.48 \\\\\n",
       "0.63 & 0.52 & 0.85 & 1.0 & 0.72 & 0.47 \\\\\n",
       "0.79 & 0.77 & 0.87 & 0.72 & 1.0 & 0.48 \\\\\n",
       "0.67 & 0.84 & 0.48 & 0.47 & 0.48 & 1.0\n",
       "\\end{array}\\right)\n",
       "\\end{math}"
      ],
      "text/plain": [
       "[ 1.0 0.80 0.70 0.63 0.79 0.67]\n",
       "[0.80  1.0 0.64 0.52 0.77 0.84]\n",
       "[0.70 0.64  1.0 0.85 0.87 0.48]\n",
       "[0.63 0.52 0.85  1.0 0.72 0.47]\n",
       "[0.79 0.77 0.87 0.72  1.0 0.48]\n",
       "[0.67 0.84 0.48 0.47 0.48  1.0]"
      ]
     },
     "metadata": {},
     "output_type": "display_data"
    }
   ],
   "source": [
    "# calculer la matrice de corrélation"
   ]
  },
  {
   "cell_type": "code",
   "execution_count": 34,
   "metadata": {},
   "outputs": [
    {
     "name": "stdout",
     "output_type": "stream",
     "text": [
      "[[1.         0.79662771 0.70146192 0.62975716 0.78895203 0.66493402]\n",
      " [0.79662771 1.         0.64136235 0.52083197 0.765293   0.84437948]\n",
      " [0.70146192 0.64136235 1.         0.84926635 0.86809028 0.47592847]\n",
      " [0.62975716 0.52083197 0.84926635 1.         0.71687392 0.47294527]\n",
      " [0.78895203 0.765293   0.86809028 0.71687392 1.         0.4775956 ]\n",
      " [0.66493402 0.84437948 0.47592847 0.47294527 0.4775956  1.        ]]\n"
     ]
    }
   ],
   "source": [
    "# Avec numpy\n",
    "import numpy as np\n",
    "test = np.stack((variables['cylindrée'],variables['puissance'],variables['longueur'], variables['largeur'],variables['poids'],variables['vitesse max']))\n",
    "Cor=np.corrcoef(test)\n",
    "print(Cor)"
   ]
  },
  {
   "cell_type": "code",
   "execution_count": 39,
   "metadata": {},
   "outputs": [
    {
     "name": "stdout",
     "output_type": "stream",
     "text": [
      "[4.42085806 0.85606229 0.37306608 0.21392209 0.09280121 0.04329027]\n",
      "[[-0.42493602 -0.12419108 -0.35361252  0.80778648  0.15158003 -0.05889517]\n",
      " [-0.42179441 -0.41577389 -0.18492049 -0.35779199 -0.29373465 -0.63303302]\n",
      " [-0.42145993  0.41181773  0.06763394 -0.27975231  0.73056903 -0.19029153]\n",
      " [-0.38692224  0.446087    0.60486812  0.21156941 -0.47819008 -0.10956624]\n",
      " [-0.43051198  0.24267581 -0.48439601 -0.30171136 -0.30455842  0.5808122 ]\n",
      " [-0.35894427 -0.6198626   0.48547226 -0.0735743   0.18865511  0.45852167]]\n"
     ]
    }
   ],
   "source": [
    "#Déterminer ses valeurs propres\n",
    "vals_propres,P = np.linalg.eig(Cor)\n",
    "print(vals_propres)\n",
    "print(P)"
   ]
  },
  {
   "cell_type": "code",
   "execution_count": 43,
   "metadata": {},
   "outputs": [
    {
     "name": "stdout",
     "output_type": "stream",
     "text": [
      "5.999999999999999 0.7368096766014817 0.8794867248091415\n"
     ]
    }
   ],
   "source": [
    "# Calculer l'inertie de la composante principale et du plan principal\n",
    "inertie = sum(vals_propres)\n",
    "inertie_cp = vals_propres[0]/inertie\n",
    "inertie_pp = (vals_propres[0]+vals_propres[1])/inertie\n",
    "print(inertie, inertie_cp, inertie_pp)"
   ]
  },
  {
   "cell_type": "code",
   "execution_count": 51,
   "metadata": {},
   "outputs": [
    {
     "data": {
      "text/plain": [
       "Text(0.5, 1.0, 'Ebouli des valeurs propres')"
      ]
     },
     "execution_count": 51,
     "metadata": {},
     "output_type": "execute_result"
    },
    {
     "data": {
      "image/png": "[encoded data removed]",
      "text/plain": [
       "<Figure size 432x288 with 1 Axes>"
      ]
     },
     "metadata": {
      "needs_background": "light"
     },
     "output_type": "display_data"
    }
   ],
   "source": [
    "#Représenter l'ébouli des valeurs propres\n",
    "plt.scatter(vals_propres,[1,2,3,4,5,6])\n",
    "plt.plot(vals_propres,[1,2,3,4,5,6])\n",
    "plt.title(\"Ebouli des valeurs propres\")"
   ]
  },
  {
   "cell_type": "code",
   "execution_count": 66,
   "metadata": {},
   "outputs": [
    {
     "name": "stdout",
     "output_type": "stream",
     "text": [
      "D: [[4.42085806 0.         0.         0.         0.         0.        ]\n",
      " [0.         0.85606229 0.         0.         0.         0.        ]\n",
      " [0.         0.         0.37306608 0.         0.         0.        ]\n",
      " [0.         0.         0.         0.21392209 0.         0.        ]\n",
      " [0.         0.         0.         0.         0.09280121 0.        ]\n",
      " [0.         0.         0.         0.         0.         0.04329027]]\n",
      "P: [[-0.42493602 -0.12419108 -0.35361252  0.80778648  0.15158003 -0.05889517]\n",
      " [-0.42179441 -0.41577389 -0.18492049 -0.35779199 -0.29373465 -0.63303302]\n",
      " [-0.42145993  0.41181773  0.06763394 -0.27975231  0.73056903 -0.19029153]\n",
      " [-0.38692224  0.446087    0.60486812  0.21156941 -0.47819008 -0.10956624]\n",
      " [-0.43051198  0.24267581 -0.48439601 -0.30171136 -0.30455842  0.5808122 ]\n",
      " [-0.35894427 -0.6198626   0.48547226 -0.0735743   0.18865511  0.45852167]]\n"
     ]
    }
   ],
   "source": [
    "# Diagonaliser la matrice de corrélation. Soit P sa matrice de passage\n",
    "D = np.diag(vals_propres)\n",
    "print('D:',D)\n",
    "print('P:',P)"
   ]
  },
  {
   "cell_type": "code",
   "execution_count": 73,
   "metadata": {},
   "outputs": [
    {
     "data": {
      "text/html": [
       "<html><script type=\"math/tex; mode=display\">\\newcommand{\\Bold}[1]{\\mathbf{#1}}\\left[4.420858059608888, 0.8560622892459582, 0.3730660774399729, 0.21392208902331017, 0.09280121200592832, 0.043290272675940246\\right]</script></html>"
      ],
      "text/latex": [
       "\\begin{math}\n",
       "\\newcommand{\\Bold}[1]{\\mathbf{#1}}\\left[4.420858059608888, 0.8560622892459582, 0.3730660774399729, 0.21392208902331017, 0.09280121200592832, 0.043290272675940246\\right]\n",
       "\\end{math}"
      ],
      "text/plain": [
       "[4.420858059608888,\n",
       " 0.8560622892459582,\n",
       " 0.3730660774399729,\n",
       " 0.21392208902331017,\n",
       " 0.09280121200592832,\n",
       " 0.043290272675940246]"
      ]
     },
     "metadata": {},
     "output_type": "display_data"
    },
    {
     "data": {
      "text/html": [
       "<html><script type=\"math/tex; mode=display\">\\newcommand{\\Bold}[1]{\\mathbf{#1}}\\left(\\begin{array}{rrrrrr}\n",
       "4.420858059608886 & 0.0 & 0.0 & 0.0 & 0.0 & 0.0 \\\\\n",
       "0.0 & 0.8560622892459587 & 0.0 & 0.0 & 0.0 & 0.0 \\\\\n",
       "0.0 & 0.0 & 0.3730660774399732 & 0.0 & 0.0 & 0.0 \\\\\n",
       "0.0 & 0.0 & 0.0 & 0.2139220890233099 & 0.0 & 0.0 \\\\\n",
       "0.0 & 0.0 & 0.0 & 0.0 & 0.09280121200592847 & 0.0 \\\\\n",
       "0.0 & 0.0 & 0.0 & 0.0 & 0.0 & 0.043290272675940294\n",
       "\\end{array}\\right) \\left(\\begin{array}{rrrrrr}\n",
       "-0.42493602321352003 & -0.12419108025271665 & -0.3536125153225834 & 0.80778647836463 & 0.15158002775295676 & -0.058895172349341024 \\\\\n",
       "-0.42179440949983793 & -0.41577389078786875 & -0.18492049420391096 & -0.3577919895498343 & -0.2937346499591926 & -0.6330330214961182 \\\\\n",
       "-0.4214599308674995 & 0.4118177278968862 & 0.06763394247169545 & -0.2797523141309945 & 0.7305690335209631 & -0.19029152762890902 \\\\\n",
       "-0.38692223986579083 & 0.44608699968676646 & 0.6048681183341382 & 0.21156940993319673 & -0.47819008058320017 & -0.10956623587114128 \\\\\n",
       "-0.4305119823724684 & 0.2426758144888081 & -0.4843960083166109 & -0.30171136416090005 & -0.3045584235266471 & 0.5808121973736305 \\\\\n",
       "-0.35894427463645573 & -0.6198626009748284 & 0.48547226100592533 & -0.07357430149367006 & 0.1886551121777655 & 0.4585216660324102\n",
       "\\end{array}\\right)</script></html>"
      ],
      "text/latex": [
       "\\begin{math}\n",
       "\\newcommand{\\Bold}[1]{\\mathbf{#1}}\\left(\\begin{array}{rrrrrr}\n",
       "4.420858059608886 & 0.0 & 0.0 & 0.0 & 0.0 & 0.0 \\\\\n",
       "0.0 & 0.8560622892459587 & 0.0 & 0.0 & 0.0 & 0.0 \\\\\n",
       "0.0 & 0.0 & 0.3730660774399732 & 0.0 & 0.0 & 0.0 \\\\\n",
       "0.0 & 0.0 & 0.0 & 0.2139220890233099 & 0.0 & 0.0 \\\\\n",
       "0.0 & 0.0 & 0.0 & 0.0 & 0.09280121200592847 & 0.0 \\\\\n",
       "0.0 & 0.0 & 0.0 & 0.0 & 0.0 & 0.043290272675940294\n",
       "\\end{array}\\right) \\left(\\begin{array}{rrrrrr}\n",
       "-0.42493602321352003 & -0.12419108025271665 & -0.3536125153225834 & 0.80778647836463 & 0.15158002775295676 & -0.058895172349341024 \\\\\n",
       "-0.42179440949983793 & -0.41577389078786875 & -0.18492049420391096 & -0.3577919895498343 & -0.2937346499591926 & -0.6330330214961182 \\\\\n",
       "-0.4214599308674995 & 0.4118177278968862 & 0.06763394247169545 & -0.2797523141309945 & 0.7305690335209631 & -0.19029152762890902 \\\\\n",
       "-0.38692223986579083 & 0.44608699968676646 & 0.6048681183341382 & 0.21156940993319673 & -0.47819008058320017 & -0.10956623587114128 \\\\\n",
       "-0.4305119823724684 & 0.2426758144888081 & -0.4843960083166109 & -0.30171136416090005 & -0.3045584235266471 & 0.5808121973736305 \\\\\n",
       "-0.35894427463645573 & -0.6198626009748284 & 0.48547226100592533 & -0.07357430149367006 & 0.1886551121777655 & 0.4585216660324102\n",
       "\\end{array}\\right)\n",
       "\\end{math}"
      ],
      "text/plain": [
       "[   4.420858059608886                  0.0                  0.0                  0.0                  0.0                  0.0]\n",
       "[                 0.0   0.8560622892459587                  0.0                  0.0                  0.0                  0.0]\n",
       "[                 0.0                  0.0   0.3730660774399732                  0.0                  0.0                  0.0]\n",
       "[                 0.0                  0.0                  0.0   0.2139220890233099                  0.0                  0.0]\n",
       "[                 0.0                  0.0                  0.0                  0.0  0.09280121200592847                  0.0]\n",
       "[                 0.0                  0.0                  0.0                  0.0                  0.0 0.043290272675940294] [ -0.42493602321352003  -0.12419108025271665   -0.3536125153225834      0.80778647836463   0.15158002775295676 -0.058895172349341024]\n",
       "[ -0.42179440949983793  -0.41577389078786875  -0.18492049420391096   -0.3577919895498343   -0.2937346499591926   -0.6330330214961182]\n",
       "[  -0.4214599308674995    0.4118177278968862   0.06763394247169545   -0.2797523141309945    0.7305690335209631  -0.19029152762890902]\n",
       "[ -0.38692223986579083   0.44608699968676646    0.6048681183341382   0.21156940993319673  -0.47819008058320017  -0.10956623587114128]\n",
       "[  -0.4305119823724684    0.2426758144888081   -0.4843960083166109  -0.30171136416090005   -0.3045584235266471    0.5808121973736305]\n",
       "[ -0.35894427463645573   -0.6198626009748284   0.48547226100592533  -0.07357430149367006    0.1886551121777655    0.4585216660324102]"
      ]
     },
     "metadata": {},
     "output_type": "display_data"
    }
   ],
   "source": []
  },
  {
   "cell_type": "code",
   "execution_count": 3,
   "metadata": {
    "collapsed": true,
    "scrolled": true
   },
   "outputs": [],
   "source": [
    "# Construire les deux composantes principales\n"
   ]
  },
  {
   "cell_type": "code",
   "execution_count": 85,
   "metadata": {},
   "outputs": [
    {
     "data": {
      "text/plain": [
       "Text(0.5, 1.0, 'Tracé suivant les composantes principales')"
      ]
     },
     "execution_count": 85,
     "metadata": {},
     "output_type": "execute_result"
    },
    {
     "data": {
      "image/png": "[encoded data removed]",
      "text/plain": [
       "<Figure size 432x288 with 1 Axes>"
      ]
     },
     "metadata": {
      "needs_background": "light"
     },
     "output_type": "display_data"
    }
   ],
   "source": [
    "# Tracé les différents véhicules suivant les deux composantes principales\n",
    "plt.scatter(C1,C2,marker='o')\n",
    "plt.xlabel('CP 1')\n",
    "plt.ylabel('CP 2')\n",
    "plt.title(\"Tracé suivant les composantes principales\")"
   ]
  },
  {
   "cell_type": "code",
   "execution_count": 86,
   "metadata": {
    "collapsed": true
   },
   "outputs": [],
   "source": [
    "# Représenter graphiquement les contributions des variables aux composantes principales :\n"
   ]
  },
  {
   "cell_type": "code",
   "execution_count": null,
   "metadata": {
    "collapsed": true
   },
   "outputs": [],
   "source": []
  },
  {
   "cell_type": "markdown",
   "metadata": {},
   "source": [
    "### Exercice 2 : Jus de fruit "
   ]
  },
  {
   "cell_type": "code",
   "execution_count": 50,
   "metadata": {
    "collapsed": true
   },
   "outputs": [],
   "source": [
    "# Un jus de fruit est caractériqsé par les caractéristiques suivantes : \n",
    "# odeur, pulpeux, couleur, acidité, amertume, sucré, originalité\n",
    "data={1:[2.82,2.53,1.66,3.46,3.15,2.97,2.60],\n",
    "      2:[2.76,2.82,1.91,3.23,2.55,2.08,3.32 ],\n",
    "      3:[2.83,2.88,4.0,3.45,2.42,1.76,3.38 ],\n",
    "      4:[2.76,2.59,1.66,3.37,3.05,2.56,2.8 ],\n",
    "      5:[3.2,3.02,3.69,3.12,2.33,1.97,3.34 ],\n",
    "      6:[3.07,2.73,3.34,3.54,3.31,2.63,2.9 ],\n",
    "     }"
   ]
  }
 ],
 "metadata": {
  "kernelspec": {
   "display_name": "Python 3 (ipykernel)",
   "language": "python",
   "name": "python3"
  },
  "language_info": {
   "codemirror_mode": {
    "name": "ipython",
    "version": 3
   },
   "file_extension": ".py",
   "mimetype": "text/x-python",
   "name": "python",
   "nbconvert_exporter": "python",
   "pygments_lexer": "ipython3",
   "version": "3.10.2"
  }
 },
 "nbformat": 4,
 "nbformat_minor": 4
}
