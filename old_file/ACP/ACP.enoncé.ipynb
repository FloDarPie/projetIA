{
 "cells": [
  {
   "cell_type": "markdown",
   "metadata": {},
   "source": [
    "# Analyse en Composante Principale"
   ]
  },
  {
   "cell_type": "markdown",
   "metadata": {},
   "source": [
    "### Exercice 1 :  Voitures"
   ]
  },
  {
   "cell_type": "code",
   "execution_count": 18,
   "metadata": {
    "collapsed": true
   },
   "outputs": [],
   "source": [
    "voitures={\"Alfasud\" : [1350 ,79 ,393, 161, 870 ,165],\n",
    "\"Audi\" : [1588, 85, 468, 177, 1110 ,160 ],\n",
    "\"Simca\"  : [1294 ,68, 424, 168, 1050 ,152 ],\n",
    "\"Citroen\"  : [1222, 59, 412, 161, 930 ,151 ],\n",
    "\"Fiat\" : [1585, 98, 439, 164,1105 ,165 ],\n",
    "\"Lancia\"  :[1297 ,82 ,429, 169, 1080 ,160 ],\n",
    "\"Peugeot\" :[ 1796, 79, 449 ,169, 1160 ,154 ],\n",
    "\"Renault16\" : [1565,55, 424, 163, 1010 ,140], \n",
    "\"Renault30\": [2664, 128, 452, 173, 1320,180], \n",
    "\"Toyota\" : [1166, 55 ,399, 157, 815, 140], \n",
    "\"Alfetta\" :[ 1570, 109, 428, 162, 1060, 175], \n",
    "\"Princess\" : [1798 ,82, 445, 172, 1160 ,158 ],\n",
    "\"Datsun\" :[1998 ,115, 469, 169, 1370 ,160 ],\n",
    "\"Taunus\" : [1993, 98 ,438 ,170, 1080 ,167 ],\n",
    "\"Rancho\" :[1442 ,80 ,431, 166, 1129, 144 ],\n",
    "\"Mazda\" :[1769 ,83,440,165 ,1095, 165 ],\n",
    "\"Opel\": [1979, 100 ,459 ,173, 1120 ,173], \n",
    "\"Lada\" : [1294, 68, 404 ,161, 955, 140] }"
   ]
  },
  {
   "cell_type": "code",
   "execution_count": 19,
   "metadata": {},
   "outputs": [
    {
     "data": {
      "text/html": [
       "<html><script type=\"math/tex; mode=display\">\\newcommand{\\Bold}[1]{\\mathbf{#1}}\\left\\{1 : \\left[1350, 1588, 1294, 1222, 1585, 1297, 1796, 1565, 2664, 1166, 1570, 1798, 1998, 1993, 1442, 1769, 1979, 1294\\right], 2 : \\left[79, 85, 68, 59, 98, 82, 79, 55, 128, 55, 109, 82, 115, 98, 80, 83, 100, 68\\right], 3 : \\left[393, 468, 424, 412, 439, 429, 449, 424, 452, 399, 428, 445, 469, 438, 431, 440, 459, 404\\right], 4 : \\left[161, 177, 168, 161, 164, 169, 169, 163, 173, 157, 162, 172, 169, 170, 166, 165, 173, 161\\right], 5 : \\left[870, 1110, 1050, 930, 1105, 1080, 1160, 1010, 1320, 815, 1060, 1160, 1370, 1080, 1129, 1095, 1120, 955\\right], 6 : \\left[165, 160, 152, 151, 165, 160, 154, 140, 180, 140, 175, 158, 160, 167, 144, 165, 173, 140\\right]\\right\\}</script></html>"
      ],
      "text/latex": [
       "\\begin{math}\n",
       "\\newcommand{\\Bold}[1]{\\mathbf{#1}}\\left\\{1 : \\left[1350, 1588, 1294, 1222, 1585, 1297, 1796, 1565, 2664, 1166, 1570, 1798, 1998, 1993, 1442, 1769, 1979, 1294\\right], 2 : \\left[79, 85, 68, 59, 98, 82, 79, 55, 128, 55, 109, 82, 115, 98, 80, 83, 100, 68\\right], 3 : \\left[393, 468, 424, 412, 439, 429, 449, 424, 452, 399, 428, 445, 469, 438, 431, 440, 459, 404\\right], 4 : \\left[161, 177, 168, 161, 164, 169, 169, 163, 173, 157, 162, 172, 169, 170, 166, 165, 173, 161\\right], 5 : \\left[870, 1110, 1050, 930, 1105, 1080, 1160, 1010, 1320, 815, 1060, 1160, 1370, 1080, 1129, 1095, 1120, 955\\right], 6 : \\left[165, 160, 152, 151, 165, 160, 154, 140, 180, 140, 175, 158, 160, 167, 144, 165, 173, 140\\right]\\right\\}\n",
       "\\end{math}"
      ],
      "text/plain": [
       "{1: [1350,\n",
       "  1588,\n",
       "  1294,\n",
       "  1222,\n",
       "  1585,\n",
       "  1297,\n",
       "  1796,\n",
       "  1565,\n",
       "  2664,\n",
       "  1166,\n",
       "  1570,\n",
       "  1798,\n",
       "  1998,\n",
       "  1993,\n",
       "  1442,\n",
       "  1769,\n",
       "  1979,\n",
       "  1294],\n",
       " 2: [79,\n",
       "  85,\n",
       "  68,\n",
       "  59,\n",
       "  98,\n",
       "  82,\n",
       "  79,\n",
       "  55,\n",
       "  128,\n",
       "  55,\n",
       "  109,\n",
       "  82,\n",
       "  115,\n",
       "  98,\n",
       "  80,\n",
       "  83,\n",
       "  100,\n",
       "  68],\n",
       " 3: [393,\n",
       "  468,\n",
       "  424,\n",
       "  412,\n",
       "  439,\n",
       "  429,\n",
       "  449,\n",
       "  424,\n",
       "  452,\n",
       "  399,\n",
       "  428,\n",
       "  445,\n",
       "  469,\n",
       "  438,\n",
       "  431,\n",
       "  440,\n",
       "  459,\n",
       "  404],\n",
       " 4: [161,\n",
       "  177,\n",
       "  168,\n",
       "  161,\n",
       "  164,\n",
       "  169,\n",
       "  169,\n",
       "  163,\n",
       "  173,\n",
       "  157,\n",
       "  162,\n",
       "  172,\n",
       "  169,\n",
       "  170,\n",
       "  166,\n",
       "  165,\n",
       "  173,\n",
       "  161],\n",
       " 5: [870,\n",
       "  1110,\n",
       "  1050,\n",
       "  930,\n",
       "  1105,\n",
       "  1080,\n",
       "  1160,\n",
       "  1010,\n",
       "  1320,\n",
       "  815,\n",
       "  1060,\n",
       "  1160,\n",
       "  1370,\n",
       "  1080,\n",
       "  1129,\n",
       "  1095,\n",
       "  1120,\n",
       "  955],\n",
       " 6: [165,\n",
       "  160,\n",
       "  152,\n",
       "  151,\n",
       "  165,\n",
       "  160,\n",
       "  154,\n",
       "  140,\n",
       "  180,\n",
       "  140,\n",
       "  175,\n",
       "  158,\n",
       "  160,\n",
       "  167,\n",
       "  144,\n",
       "  165,\n",
       "  173,\n",
       "  140]}"
      ]
     },
     "metadata": {},
     "output_type": "display_data"
    }
   ],
   "source": [
    "# Définir sous forme d'un dictionnaire, les 6 variables (cylindrée, puissance, longueur, largeur, poids, vitesse max)\n"
   ]
  },
  {
   "cell_type": "code",
   "execution_count": 20,
   "metadata": {},
   "outputs": [
    {
     "data": {
      "text/plain": [
       "Text(0, 0.5, 'Vitesse Max')"
      ]
     },
     "execution_count": 20,
     "metadata": {},
     "output_type": "execute_result"
    },
    {
     "data": {
      "image/png": "[encoded data removed]",
      "text/plain": [
       "<Figure size 432x288 with 1 Axes>"
      ]
     },
     "metadata": {
      "needs_background": "light"
     },
     "output_type": "display_data"
    }
   ],
   "source": [
    "#Représenter quelques corrélations entre couples de variables\n"
   ]
  },
  {
   "cell_type": "code",
   "execution_count": 21,
   "metadata": {},
   "outputs": [
    {
     "data": {
      "text/plain": [
       "Text(0, 0.5, 'Puissance')"
      ]
     },
     "execution_count": 21,
     "metadata": {},
     "output_type": "execute_result"
    },
    {
     "data": {
      "image/png": "[encoded data removed]",
      "text/plain": [
       "<Figure size 432x288 with 1 Axes>"
      ]
     },
     "metadata": {
      "needs_background": "light"
     },
     "output_type": "display_data"
    }
   ],
   "source": []
  },
  {
   "cell_type": "code",
   "execution_count": 22,
   "metadata": {},
   "outputs": [
    {
     "data": {
      "text/plain": [
       "Text(0, 0.5, 'Vitesse Max')"
      ]
     },
     "execution_count": 22,
     "metadata": {},
     "output_type": "execute_result"
    },
    {
     "data": {
      "image/png": "[encoded data removed]",
      "text/plain": [
       "<Figure size 432x288 with 1 Axes>"
      ]
     },
     "metadata": {
      "needs_background": "light"
     },
     "output_type": "display_data"
    }
   ],
   "source": []
  },
  {
   "cell_type": "code",
   "execution_count": 57,
   "metadata": {
    "collapsed": true
   },
   "outputs": [],
   "source": [
    "# C'est parti pour l'Analyse en Composante Principale\n"
   ]
  },
  {
   "cell_type": "code",
   "execution_count": 66,
   "metadata": {},
   "outputs": [
    {
     "data": {
      "text/html": [
       "<html><script type=\"math/tex; mode=display\">\\newcommand{\\Bold}[1]{\\mathbf{#1}}\\left(\\begin{array}{rrrrrr}\n",
       "1.0 & 0.80 & 0.70 & 0.63 & 0.79 & 0.67 \\\\\n",
       "0.80 & 1.0 & 0.64 & 0.52 & 0.77 & 0.84 \\\\\n",
       "0.70 & 0.64 & 1.0 & 0.85 & 0.87 & 0.48 \\\\\n",
       "0.63 & 0.52 & 0.85 & 1.0 & 0.72 & 0.47 \\\\\n",
       "0.79 & 0.77 & 0.87 & 0.72 & 1.0 & 0.48 \\\\\n",
       "0.67 & 0.84 & 0.48 & 0.47 & 0.48 & 1.0\n",
       "\\end{array}\\right)</script></html>"
      ],
      "text/latex": [
       "\\begin{math}\n",
       "\\newcommand{\\Bold}[1]{\\mathbf{#1}}\\left(\\begin{array}{rrrrrr}\n",
       "1.0 & 0.80 & 0.70 & 0.63 & 0.79 & 0.67 \\\\\n",
       "0.80 & 1.0 & 0.64 & 0.52 & 0.77 & 0.84 \\\\\n",
       "0.70 & 0.64 & 1.0 & 0.85 & 0.87 & 0.48 \\\\\n",
       "0.63 & 0.52 & 0.85 & 1.0 & 0.72 & 0.47 \\\\\n",
       "0.79 & 0.77 & 0.87 & 0.72 & 1.0 & 0.48 \\\\\n",
       "0.67 & 0.84 & 0.48 & 0.47 & 0.48 & 1.0\n",
       "\\end{array}\\right)\n",
       "\\end{math}"
      ],
      "text/plain": [
       "[ 1.0 0.80 0.70 0.63 0.79 0.67]\n",
       "[0.80  1.0 0.64 0.52 0.77 0.84]\n",
       "[0.70 0.64  1.0 0.85 0.87 0.48]\n",
       "[0.63 0.52 0.85  1.0 0.72 0.47]\n",
       "[0.79 0.77 0.87 0.72  1.0 0.48]\n",
       "[0.67 0.84 0.48 0.47 0.48  1.0]"
      ]
     },
     "metadata": {},
     "output_type": "display_data"
    }
   ],
   "source": [
    "# calculer la matrice de corrélation"
   ]
  },
  {
   "cell_type": "code",
   "execution_count": null,
   "metadata": {
    "collapsed": true
   },
   "outputs": [],
   "source": [
    "# Avec numpy\n",
    "import numpy as np\n",
    "test = np.stack((Z[1],Z[2],Z[3], Z[4],Z[5],Z[6]))\n",
    "Cor=np.corrcoef(test)"
   ]
  },
  {
   "cell_type": "code",
   "execution_count": 68,
   "metadata": {},
   "outputs": [
    {
     "data": {
      "text/html": [
       "<html><script type=\"math/tex; mode=display\">\\newcommand{\\Bold}[1]{\\mathbf{#1}}\\left[4.42085805960889, 0.856062289245721, 0.373066077444696, 0.213922089009116, 0.0928012120272884, 0.0432902726642898\\right]</script></html>"
      ],
      "text/latex": [
       "\\begin{math}\n",
       "\\newcommand{\\Bold}[1]{\\mathbf{#1}}\\left[4.42085805960889, 0.856062289245721, 0.373066077444696, 0.213922089009116, 0.0928012120272884, 0.0432902726642898\\right]\n",
       "\\end{math}"
      ],
      "text/plain": [
       "[4.42085805960889, 0.856062289245721, 0.373066077444696, 0.213922089009116, 0.0928012120272884, 0.0432902726642898]"
      ]
     },
     "metadata": {},
     "output_type": "display_data"
    }
   ],
   "source": [
    "#Déterminer ses valeurs propres"
   ]
  },
  {
   "cell_type": "code",
   "execution_count": 46,
   "metadata": {},
   "outputs": [
    {
     "name": "stdout",
     "output_type": "stream",
     "text": [
      "0.736809676601481\n",
      "0.879486724809102\n"
     ]
    }
   ],
   "source": [
    "# Calculer l'inertie de la composante principale et du plan principal\n"
   ]
  },
  {
   "cell_type": "code",
   "execution_count": 40,
   "metadata": {},
   "outputs": [
    {
     "data": {
      "text/plain": [
       "Text(0.5, 1.0, 'Ebouli des valeurs propres')"
      ]
     },
     "execution_count": 40,
     "metadata": {},
     "output_type": "execute_result"
    },
    {
     "data": {
      "image/png": "[encoded data removed]",
      "text/plain": [
       "<Figure size 432x288 with 1 Axes>"
      ]
     },
     "metadata": {
      "needs_background": "light"
     },
     "output_type": "display_data"
    }
   ],
   "source": [
    "#Représenter l'ébouli des valeurs propres\n",
    "\n",
    "plt.title(\"Ebouli des valeurs propres\")"
   ]
  },
  {
   "cell_type": "code",
   "execution_count": 74,
   "metadata": {
    "collapsed": true
   },
   "outputs": [],
   "source": [
    "# Diagonaliser la matrice de corrélation. Soit P sa matrice de passage"
   ]
  },
  {
   "cell_type": "code",
   "execution_count": 73,
   "metadata": {},
   "outputs": [
    {
     "data": {
      "text/html": [
       "<html><script type=\"math/tex; mode=display\">\\newcommand{\\Bold}[1]{\\mathbf{#1}}\\left[4.420858059608888, 0.8560622892459582, 0.3730660774399729, 0.21392208902331017, 0.09280121200592832, 0.043290272675940246\\right]</script></html>"
      ],
      "text/latex": [
       "\\begin{math}\n",
       "\\newcommand{\\Bold}[1]{\\mathbf{#1}}\\left[4.420858059608888, 0.8560622892459582, 0.3730660774399729, 0.21392208902331017, 0.09280121200592832, 0.043290272675940246\\right]\n",
       "\\end{math}"
      ],
      "text/plain": [
       "[4.420858059608888,\n",
       " 0.8560622892459582,\n",
       " 0.3730660774399729,\n",
       " 0.21392208902331017,\n",
       " 0.09280121200592832,\n",
       " 0.043290272675940246]"
      ]
     },
     "metadata": {},
     "output_type": "display_data"
    },
    {
     "data": {
      "text/html": [
       "<html><script type=\"math/tex; mode=display\">\\newcommand{\\Bold}[1]{\\mathbf{#1}}\\left(\\begin{array}{rrrrrr}\n",
       "4.420858059608886 & 0.0 & 0.0 & 0.0 & 0.0 & 0.0 \\\\\n",
       "0.0 & 0.8560622892459587 & 0.0 & 0.0 & 0.0 & 0.0 \\\\\n",
       "0.0 & 0.0 & 0.3730660774399732 & 0.0 & 0.0 & 0.0 \\\\\n",
       "0.0 & 0.0 & 0.0 & 0.2139220890233099 & 0.0 & 0.0 \\\\\n",
       "0.0 & 0.0 & 0.0 & 0.0 & 0.09280121200592847 & 0.0 \\\\\n",
       "0.0 & 0.0 & 0.0 & 0.0 & 0.0 & 0.043290272675940294\n",
       "\\end{array}\\right) \\left(\\begin{array}{rrrrrr}\n",
       "-0.42493602321352003 & -0.12419108025271665 & -0.3536125153225834 & 0.80778647836463 & 0.15158002775295676 & -0.058895172349341024 \\\\\n",
       "-0.42179440949983793 & -0.41577389078786875 & -0.18492049420391096 & -0.3577919895498343 & -0.2937346499591926 & -0.6330330214961182 \\\\\n",
       "-0.4214599308674995 & 0.4118177278968862 & 0.06763394247169545 & -0.2797523141309945 & 0.7305690335209631 & -0.19029152762890902 \\\\\n",
       "-0.38692223986579083 & 0.44608699968676646 & 0.6048681183341382 & 0.21156940993319673 & -0.47819008058320017 & -0.10956623587114128 \\\\\n",
       "-0.4305119823724684 & 0.2426758144888081 & -0.4843960083166109 & -0.30171136416090005 & -0.3045584235266471 & 0.5808121973736305 \\\\\n",
       "-0.35894427463645573 & -0.6198626009748284 & 0.48547226100592533 & -0.07357430149367006 & 0.1886551121777655 & 0.4585216660324102\n",
       "\\end{array}\\right)</script></html>"
      ],
      "text/latex": [
       "\\begin{math}\n",
       "\\newcommand{\\Bold}[1]{\\mathbf{#1}}\\left(\\begin{array}{rrrrrr}\n",
       "4.420858059608886 & 0.0 & 0.0 & 0.0 & 0.0 & 0.0 \\\\\n",
       "0.0 & 0.8560622892459587 & 0.0 & 0.0 & 0.0 & 0.0 \\\\\n",
       "0.0 & 0.0 & 0.3730660774399732 & 0.0 & 0.0 & 0.0 \\\\\n",
       "0.0 & 0.0 & 0.0 & 0.2139220890233099 & 0.0 & 0.0 \\\\\n",
       "0.0 & 0.0 & 0.0 & 0.0 & 0.09280121200592847 & 0.0 \\\\\n",
       "0.0 & 0.0 & 0.0 & 0.0 & 0.0 & 0.043290272675940294\n",
       "\\end{array}\\right) \\left(\\begin{array}{rrrrrr}\n",
       "-0.42493602321352003 & -0.12419108025271665 & -0.3536125153225834 & 0.80778647836463 & 0.15158002775295676 & -0.058895172349341024 \\\\\n",
       "-0.42179440949983793 & -0.41577389078786875 & -0.18492049420391096 & -0.3577919895498343 & -0.2937346499591926 & -0.6330330214961182 \\\\\n",
       "-0.4214599308674995 & 0.4118177278968862 & 0.06763394247169545 & -0.2797523141309945 & 0.7305690335209631 & -0.19029152762890902 \\\\\n",
       "-0.38692223986579083 & 0.44608699968676646 & 0.6048681183341382 & 0.21156940993319673 & -0.47819008058320017 & -0.10956623587114128 \\\\\n",
       "-0.4305119823724684 & 0.2426758144888081 & -0.4843960083166109 & -0.30171136416090005 & -0.3045584235266471 & 0.5808121973736305 \\\\\n",
       "-0.35894427463645573 & -0.6198626009748284 & 0.48547226100592533 & -0.07357430149367006 & 0.1886551121777655 & 0.4585216660324102\n",
       "\\end{array}\\right)\n",
       "\\end{math}"
      ],
      "text/plain": [
       "[   4.420858059608886                  0.0                  0.0                  0.0                  0.0                  0.0]\n",
       "[                 0.0   0.8560622892459587                  0.0                  0.0                  0.0                  0.0]\n",
       "[                 0.0                  0.0   0.3730660774399732                  0.0                  0.0                  0.0]\n",
       "[                 0.0                  0.0                  0.0   0.2139220890233099                  0.0                  0.0]\n",
       "[                 0.0                  0.0                  0.0                  0.0  0.09280121200592847                  0.0]\n",
       "[                 0.0                  0.0                  0.0                  0.0                  0.0 0.043290272675940294] [ -0.42493602321352003  -0.12419108025271665   -0.3536125153225834      0.80778647836463   0.15158002775295676 -0.058895172349341024]\n",
       "[ -0.42179440949983793  -0.41577389078786875  -0.18492049420391096   -0.3577919895498343   -0.2937346499591926   -0.6330330214961182]\n",
       "[  -0.4214599308674995    0.4118177278968862   0.06763394247169545   -0.2797523141309945    0.7305690335209631  -0.19029152762890902]\n",
       "[ -0.38692223986579083   0.44608699968676646    0.6048681183341382   0.21156940993319673  -0.47819008058320017  -0.10956623587114128]\n",
       "[  -0.4305119823724684    0.2426758144888081   -0.4843960083166109  -0.30171136416090005   -0.3045584235266471    0.5808121973736305]\n",
       "[ -0.35894427463645573   -0.6198626009748284   0.48547226100592533  -0.07357430149367006    0.1886551121777655    0.4585216660324102]"
      ]
     },
     "metadata": {},
     "output_type": "display_data"
    }
   ],
   "source": []
  },
  {
   "cell_type": "code",
   "execution_count": 3,
   "metadata": {
    "collapsed": true,
    "scrolled": true
   },
   "outputs": [],
   "source": [
    "# Construire les deux composantes principales\n"
   ]
  },
  {
   "cell_type": "code",
   "execution_count": 85,
   "metadata": {},
   "outputs": [
    {
     "data": {
      "text/plain": [
       "Text(0.5, 1.0, 'Tracé suivant les composantes principales')"
      ]
     },
     "execution_count": 85,
     "metadata": {},
     "output_type": "execute_result"
    },
    {
     "data": {
      "image/png": "[encoded data removed]",
      "text/plain": [
       "<Figure size 432x288 with 1 Axes>"
      ]
     },
     "metadata": {
      "needs_background": "light"
     },
     "output_type": "display_data"
    }
   ],
   "source": [
    "# Tracé les différents véhicules suivant les deux composantes principales\n",
    "plt.scatter(C1,C2,marker='o')\n",
    "plt.xlabel('CP 1')\n",
    "plt.ylabel('CP 2')\n",
    "plt.title(\"Tracé suivant les composantes principales\")"
   ]
  },
  {
   "cell_type": "code",
   "execution_count": 86,
   "metadata": {
    "collapsed": true
   },
   "outputs": [],
   "source": [
    "# Représenter graphiquement les contributions des variables aux composantes principales :\n"
   ]
  },
  {
   "cell_type": "code",
   "execution_count": null,
   "metadata": {
    "collapsed": true
   },
   "outputs": [],
   "source": []
  },
  {
   "cell_type": "markdown",
   "metadata": {},
   "source": [
    "### Exercice 2 : Jus de fruit "
   ]
  },
  {
   "cell_type": "code",
   "execution_count": 50,
   "metadata": {
    "collapsed": true
   },
   "outputs": [],
   "source": [
    "# Un jus de fruit est caractériqsé par les caractéristiques suivantes : \n",
    "# odeur, pulpeux, couleur, acidité, amertume, sucré, originalité\n",
    "data={1:[2.82,2.53,1.66,3.46,3.15,2.97,2.60],\n",
    "      2:[2.76,2.82,1.91,3.23,2.55,2.08,3.32 ],\n",
    "      3:[2.83,2.88,4.0,3.45,2.42,1.76,3.38 ],\n",
    "      4:[2.76,2.59,1.66,3.37,3.05,2.56,2.8 ],\n",
    "      5:[3.2,3.02,3.69,3.12,2.33,1.97,3.34 ],\n",
    "      6:[3.07,2.73,3.34,3.54,3.31,2.63,2.9 ],\n",
    "     }"
   ]
  }
 ],
 "metadata": {
  "kernelspec": {
   "display_name": "SageMath 9.2",
   "language": "sage",
   "name": "sagemath"
  },
  "language_info": {
   "codemirror_mode": {
    "name": "ipython",
    "version": 3
   },
   "file_extension": ".py",
   "mimetype": "text/x-python",
   "name": "python",
   "nbconvert_exporter": "python",
   "pygments_lexer": "ipython3",
   "version": "3.7.7"
  }
 },
 "nbformat": 4,
 "nbformat_minor": 4
}
