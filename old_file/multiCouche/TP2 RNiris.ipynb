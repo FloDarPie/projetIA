{
 "cells": [
  {
   "cell_type": "markdown",
   "id": "25a3e462",
   "metadata": {},
   "source": [
    "\n",
    "<a id='chap-tpreseauxneuronesmulticouches1'></a>"
   ]
  },
  {
   "cell_type": "markdown",
   "id": "d84c0af3",
   "metadata": {},
   "source": [
    "# Réseaux de neurones multicouches (1). Les iris\n",
    "\n",
    "Le but de cette séance de TP est d’illustrer le fonctionnement des perceptrons multi-couches pour un problème de classification et d’explorer l’impact des fonctions d’activation des neurones de la couche cachée, du nombre de neurones cachés et du nombre de couches cachées."
   ]
  },
  {
   "cell_type": "markdown",
   "id": "424194ce",
   "metadata": {},
   "source": [
    "## Préparation des données\n",
    "\n",
    "On essaie une fois de plus de classifier les  [fleurs d’iris](https://archive.ics.uci.edu/ml/datasets/iris).  L’objectif est (toujours...) de prédire la variété à partir des quatre variables explicatives (longueurs et largeurs des sépales et des pétales)."
   ]
  },
  {
   "cell_type": "code",
   "execution_count": 1,
   "id": "74190e8f",
   "metadata": {
    "collapsed": true,
    "hide-output": false
   },
   "outputs": [],
   "source": [
    "#On commence par importer nos bibliothèques habituelles\n",
    "import sklearn\n",
    "from sklearn import datasets\n",
    "import numpy as np\n",
    "import pandas as pd\n",
    "import matplotlib\n",
    "import matplotlib.pyplot as plt"
   ]
  },
  {
   "cell_type": "code",
   "execution_count": 2,
   "id": "aa47ff88",
   "metadata": {
    "collapsed": true,
    "hide-output": false
   },
   "outputs": [],
   "source": [
    "# On importe et on structure les données\n",
    "iris = datasets.load_iris()\n",
    "iris.keys()\n",
    "X = iris.data  \n",
    "Y = iris.target\n",
    "# Ici, on n'a pas de structuration particulière, on conserve le jeu de données tel qu'il est sans modifier \n",
    "# les caractéristiques ni les étiquettes"
   ]
  },
  {
   "cell_type": "markdown",
   "id": "76ccd073",
   "metadata": {},
   "source": [
    "## Perceptrons multi-couches (PMC) dans Scikit-learn\n",
    "\n",
    "Dans Scikit-learn, les PMC sont implémentés dans les classes [MLPClassifier](https://scikit-learn.org/stable/modules/generated/sklearn.neural_network.MLPClassifier.html) pour la classification et [MPRegressor](https://scikit-learn.org/stable/modules/generated/sklearn.neural_network.MLPRegressor.html) pour la régression. Nous examinons dans la suite l’utilisation des PMC pour traiter des problèmes de classification.\n",
    "\n",
    "Les paramètres de [MLPClassifier](https://scikit-learn.org/stable/modules/generated/sklearn.neural_network.MLPClassifier.html) permettent de définir l’architecture du PMC (nombre de couches et de neurones dans chaque couche), les fonctions d’activation pour les couches cachées, et d'autres paramètres que nous n'étudierons pas ici (en particulier la méthode d’optimisation. Nous conserverons donc la méthode d’optimisation par défaut qui est SGD, la descente de gradient stochastique).  Vous pouvez examiner [les valeurs par défaut des autres paramètres](https://scikit-learn.org/stable/modules/generated/sklearn.neural_network.MLPClassifier.html)."
   ]
  },
  {
   "cell_type": "markdown",
   "id": "2ad02aab",
   "metadata": {},
   "source": [
    "### Ensembles d’apprentissage et de test\n",
    "\n",
    "Séparons d’abord l’enseble des observations disponibles en données d’apprentissage et données de test. Pour pouvoir répéter les expérimentations, il est utile d’initialiser explicitement le générateur pseudo-aléatoire avec `np.random.seed(...)`. La fonction `train_test_split` sépare les données en deux ensembles distincts, *train* et *test*, suivant la proportion de données de *test* indiquée avec `test_size` ; la séparation est réalisée par échantillonnage aléatoire uniforme."
   ]
  },
  {
   "cell_type": "code",
   "execution_count": 3,
   "id": "dfd79d29",
   "metadata": {
    "collapsed": true,
    "hide-output": false
   },
   "outputs": [],
   "source": [
    "# 2) à l'aide de train_test_split, partager les données en un jeu d'apprentissage (80%) et un jeu de test (20%)\n",
    "# \n",
    "from sklearn.model_selection import train_test_split\n",
    "np.random.seed(10)\n",
    "Xa, Xt, Ya, Yt = train_test_split(X,Y,test_size=0.4)"
   ]
  },
  {
   "cell_type": "markdown",
   "id": "1ce998f4",
   "metadata": {},
   "source": [
    "### Construction d’un modèle pour illustration\n",
    "\n",
    "Afin de pouvoir visualiser la frontière nonlinéaire de séparation entre classes, nous construisons d’abord un modèle avec des valeurs par défaut pour tous les hyper-paramètres sauf pour le nombre maximum d’itérations (la valeur par défaut de 200 étant insuffisante).  "
   ]
  },
  {
   "cell_type": "code",
   "execution_count": 4,
   "id": "1b468fa7",
   "metadata": {
    "hide-output": false
   },
   "outputs": [
    {
     "data": {
      "text/plain": [
       "MLPClassifier(activation='relu', alpha=0.0001, batch_size='auto', beta_1=0.9,\n",
       "       beta_2=0.999, early_stopping=False, epsilon=1e-08,\n",
       "       hidden_layer_sizes=(100,), learning_rate='constant',\n",
       "       learning_rate_init=0.001, max_iter=1000, momentum=0.9,\n",
       "       nesterovs_momentum=True, power_t=0.5, random_state=0, shuffle=True,\n",
       "       solver='adam', tol=0.0001, validation_fraction=0.1, verbose=False,\n",
       "       warm_start=False)"
      ]
     },
     "execution_count": 4,
     "metadata": {},
     "output_type": "execute_result"
    }
   ],
   "source": [
    "from sklearn.neural_network import MLPClassifier\n",
    "# donner une valeur à random_state rend possible la répétabilité\n",
    "clf = MLPClassifier(max_iter=1000, random_state=0)\n",
    "# apprentissage avec les deux dernières variables\n",
    "clf.fit(Xa[:,2:4], Ya)"
   ]
  },
  {
   "cell_type": "markdown",
   "id": "f2ae694c",
   "metadata": {},
   "source": [
    "Les taux de bon classement en apprentissage (*train*) et en test sont :"
   ]
  },
  {
   "cell_type": "code",
   "execution_count": 5,
   "id": "44dcbcab",
   "metadata": {
    "hide-output": false
   },
   "outputs": [
    {
     "name": "stdout",
     "output_type": "stream",
     "text": [
      "Le score sur les données d'apprentissage est 0.9444444444444444\n",
      "Le score sur les données de test est 0.9666666666666667\n"
     ]
    }
   ],
   "source": [
    "train_score = clf.score(Xa[:,2:4], Ya)\n",
    "print(\"Le score sur les données d'apprentissage est {}\".format(train_score))\n",
    "test_score = clf.score(Xt[:,2:4], Yt)\n",
    "print(\"Le score sur les données de test est {}\".format(test_score))"
   ]
  },
  {
   "cell_type": "markdown",
   "id": "99cdf666",
   "metadata": {},
   "source": [
    "Nous affichons les résultats : observations d’apprentissage (points pleins), observations de test (points creux), frontière de séparation. Pour déterminer la frontière de séparation, nous définissons dans le domaine de variation des deux variables explicatives une grille dense, calculons les prédictions du modèle sur tous les points de la grille et affichons un contour qui correspond aux points du plan où l’indétermination est maximale."
   ]
  },
  {
   "cell_type": "code",
   "execution_count": 6,
   "id": "a1b94308",
   "metadata": {
    "hide-output": false
   },
   "outputs": [
    {
     "data": {
      "image/png": "[encoded data removed]",
      "text/plain": [
       "<matplotlib.figure.Figure at 0x244d8e0d4e0>"
      ]
     },
     "metadata": {},
     "output_type": "display_data"
    }
   ],
   "source": [
    "# créer une nouvelle figure\n",
    "plt.figure()\n",
    "# afficher les nuages de points d'apprentissage (pleins) et de test (creux)\n",
    "# suivant la classe, les points affichés sont rouges ou verts \n",
    "cmp = np.array(['r','g','b'])\n",
    "plt.scatter(Xa[:,2],Xa[:,3],c=cmp[Ya],s=50)\n",
    "plt.scatter(Xt[:,2],Xt[:,3],c='none',s=50,edgecolors=cmp[Yt])\n",
    "# calculer la probabilité de sortie du MLP pour tous les points du plan\n",
    "nx, ny = 200, 200\n",
    "x_min, x_max = plt.xlim()\n",
    "y_min, y_max = plt.ylim()\n",
    "xx, yy = np.meshgrid(np.linspace(1,7, nx),np.linspace(0,2.5, ny))\n",
    "Z = clf.predict_proba(np.c_[xx.ravel(), yy.ravel()])\n",
    "Z1 = Z[:, 1].reshape(xx.shape)\n",
    "# dessiner le contour correspondant à la frontière proba = 0,5\n",
    "plt.contour(xx, yy, Z1, [0.5])\n",
    "plt.show()"
   ]
  },
  {
   "cell_type": "markdown",
   "id": "fbaddddd",
   "metadata": {},
   "source": [
    "  \n",
    "Nous avons employé la fonction `predict_proba` afin d’obtenir, pour chaque point de la grille, la prédiction du réseau sous la forme de probabilité. Le réseau a deux neurones de sortie, un donne la probabilité d’appartenance à la classe Versicolor et l’autre neurone la probabilité d’appartenance à l’autre classe. \n",
    "\n",
    "Il est également possible de visualiser l’évolution de l’erreur d’apprentissage au fil des itérations car les valeurs sont conservées dans l’attribut loss_curve_ du modèle obtenu :"
   ]
  },
  {
   "cell_type": "code",
   "execution_count": 7,
   "id": "80ea5dae",
   "metadata": {
    "hide-output": false
   },
   "outputs": [
    {
     "data": {
      "image/png": "[encoded data removed]",
      "text/plain": [
       "<matplotlib.figure.Figure at 0x244d8df09e8>"
      ]
     },
     "metadata": {},
     "output_type": "display_data"
    }
   ],
   "source": [
    "plt.figure()\n",
    "plt.xlabel('itérations')\n",
    "plt.ylabel('erreur')\n",
    "plt.plot(clf.loss_curve_)\n",
    "plt.show()"
   ]
  },
  {
   "cell_type": "markdown",
   "id": "4fbf3695",
   "metadata": {},
   "source": [
    "\n",
    "On constate qu’après 1000 itérations la pente de la courbe n’est pas nulle, il est donc possible de diminuer encore l’erreur d’apprentissage en augmentant le nombre d’itérations."
   ]
  },
  {
   "cell_type": "markdown",
   "id": "be7c99bc",
   "metadata": {},
   "source": [
    "## Jouons avec les hyperparamètres : \n",
    "## fonctions d’activation, nombre de couches, nombre de neurones par couche\n",
    "\n",
    "Pour mieux comprendre l’utilisation des différentes fonctions d’activations proposées pour les neurones des couches cachées, faites des essais avec toutes les fonctions proposées, `identity`, `logistic`, `tanh`, `relu` (déjà employée ci-dessus), en conservant les autres paramètres (sauf `max_iter=1000`) aux valeurs par défaut."
   ]
  },
  {
   "cell_type": "code",
   "execution_count": 8,
   "id": "42be5e59",
   "metadata": {
    "hide-output": false
   },
   "outputs": [
    {
     "name": "stdout",
     "output_type": "stream",
     "text": [
      "Le score en train avec identity est 0.9444444444444444\n",
      "Le score en test avec identity est 0.9666666666666667\n",
      "Le score en train avec logistic est 0.9666666666666667\n",
      "Le score en test avec logistic est 0.9833333333333333\n",
      "Le score en train avec tanh est 0.9555555555555556\n",
      "Le score en test avec tanh est 0.9666666666666667\n"
     ]
    }
   ],
   "source": []
  },
  {
   "cell_type": "markdown",
   "id": "e667a358",
   "metadata": {},
   "source": [
    "## Question :\n",
    "\n",
    "Que constatez-vous ? Pourquoi les performances obtenues avec `identity` sont nettement inférieures ? Il est utile pour cela de regarder quelle frontière de séparation est trouvée."
   ]
  },
  {
   "cell_type": "markdown",
   "id": "00a64ed6",
   "metadata": {},
   "source": [
    "## Réponse :\n",
    "\n"
   ]
  },
  {
   "cell_type": "markdown",
   "id": "45e2a735",
   "metadata": {},
   "source": [
    "## Question :\n",
    "\n",
    "Avec la fonction d’activation ReLU pour les neurones de la couche cachée, faites varier le nombre de neurones de cette couche entre 2 et 200. Que constatez-vous ? Il peut être nécessaire d’augmenter la valeur de `max_iter` pour que l’apprentissage se termine."
   ]
  },
  {
   "cell_type": "markdown",
   "id": "c576259c",
   "metadata": {},
   "source": [
    "## Correction :\n"
   ]
  },
  {
   "cell_type": "code",
   "execution_count": 47,
   "id": "85bdc9d6",
   "metadata": {
    "hide-output": false
   },
   "outputs": [
    {
     "name": "stderr",
     "output_type": "stream",
     "text": [
      "D:\\Users\\tmontaut\\Anaconda3\\lib\\site-packages\\sklearn\\neural_network\\multilayer_perceptron.py:563: ConvergenceWarning: Stochastic Optimizer: Maximum iterations reached and the optimization hasn't converged yet.\n",
      "  % (), ConvergenceWarning)\n"
     ]
    },
    {
     "data": {
      "image/png": "[encoded data removed]",
      "text/plain": [
       "<matplotlib.figure.Figure at 0x133b2b038d0>"
      ]
     },
     "metadata": {},
     "output_type": "display_data"
    }
   ],
   "source": [
    "\n",
    "plt.figure()\n",
    "plt.xlabel('neurones cachés')\n",
    "plt.ylabel('scores')\n",
    "plt.plot([2, 10, 50, 100, 150, 200], train_scores, 'go')\n",
    "plt.plot([2, 10, 50, 100, 150, 200], test_scores, 'r+')\n",
    "plt.show()"
   ]
  },
  {
   "cell_type": "markdown",
   "id": "2111ace9",
   "metadata": {},
   "source": [
    "## Question :\n",
    "\n",
    "Avec la fonction d’activation ReLU pour les neurones des couches cachées et en conservant 10 neurones par couche cachée, faites varier le nombre de couches cachées entre 2 et 5. Que constatez-vous ? Il peut être nécessaire d’augmenter la valeur de `max_iter` pour que l’apprentissage se termine."
   ]
  },
  {
   "cell_type": "markdown",
   "id": "aac3a3e5",
   "metadata": {},
   "source": [
    "## Correction :\n"
   ]
  },
  {
   "cell_type": "code",
   "execution_count": 48,
   "id": "f7df8fd8",
   "metadata": {
    "hide-output": false
   },
   "outputs": [
    {
     "data": {
      "image/png": "[encoded data removed]",
      "text/plain": [
       "<matplotlib.figure.Figure at 0x133b2afc5f8>"
      ]
     },
     "metadata": {},
     "output_type": "display_data"
    }
   ],
   "source": [
    "\n",
    "\n",
    "plt.figure()\n",
    "plt.xlabel('nb. couches cachées')\n",
    "plt.ylabel('scores')\n",
    "plt.plot([1, 2, 3, 4, 5], train_scores, 'go')\n",
    "plt.plot([1, 2, 3, 4, 5], test_scores, 'r+')\n",
    "plt.show()"
   ]
  }
 ],
 "metadata": {
  "date": 1643018066.5288103,
  "filename": "tpReseauxNeuronesMulticouches1.rst",
  "kernelspec": {
   "display_name": "Python 3 (ipykernel)",
   "language": "python",
   "name": "python3"
  },
  "language_info": {
   "codemirror_mode": {
    "name": "ipython",
    "version": 3
   },
   "file_extension": ".py",
   "mimetype": "text/x-python",
   "name": "python",
   "nbconvert_exporter": "python",
   "pygments_lexer": "ipython3",
   "version": "3.10.4"
  },
  "title": "Travaux pratiques - Réseaux de neurones multicouches (1)"
 },
 "nbformat": 4,
 "nbformat_minor": 5
}
