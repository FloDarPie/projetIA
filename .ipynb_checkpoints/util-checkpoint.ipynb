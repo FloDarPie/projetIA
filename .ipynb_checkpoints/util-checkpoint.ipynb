{
 "cells": [
  {
   "cell_type": "code",
   "execution_count": 1,
   "id": "d8c4fb67",
   "metadata": {},
   "outputs": [],
   "source": [
    "def premiere_donnees():\n",
    "    return load_data()"
   ]
  },
  {
   "cell_type": "code",
   "execution_count": 2,
   "id": "dd21099d",
   "metadata": {},
   "outputs": [],
   "source": [
    "#fonction pour generer un melange aleatoire, avec X pourcentage de test\n",
    "def chargement_donnees(pourcentage):\n",
    "    if not 0<pourcentage<1:\n",
    "        print(\"le pourcentage est compris entre 0 et 1\")\n",
    "        raise\n",
    "        \n",
    "    \n",
    "    X, y, Xtest, yt = load_data()\n",
    "    image = np.append(X,Xtest,axis=0)\n",
    "    attente = np.append(y,yt,axis=0)\n",
    "    \n",
    "    \n",
    "    np.random.seed(10)\n",
    "    return train_test_split(image,attente,test_size=pourcentage)"
   ]
  },
  {
   "cell_type": "code",
   "execution_count": 3,
   "id": "e8dc6823",
   "metadata": {},
   "outputs": [],
   "source": [
    "#affiche nb premiere image de X et leur correspondance y\n",
    "def affichage(nb,X,y):\n",
    "    plt.figure(figsize=(16,8))\n",
    "    for i in range(1,nb+1):\n",
    "        plt.subplot(4,5,i)\n",
    "        plt.imshow(X[i],cmap='gray')\n",
    "        plt.title(y[i])\n",
    "    return plt.show()"
   ]
  },
  {
   "cell_type": "code",
   "execution_count": 4,
   "id": "ac0a670d",
   "metadata": {},
   "outputs": [],
   "source": [
    "#convertit une image en un vecteur de pixel\n",
    "def aplatit(X):\n",
    "    return X.reshape(X.shape[0],X.shape[1]*X.shape[2])"
   ]
  },
  {
   "cell_type": "code",
   "execution_count": null,
   "id": "28051383",
   "metadata": {},
   "outputs": [],
   "source": []
  }
 ],
 "metadata": {
  "kernelspec": {
   "display_name": "Python 3 (ipykernel)",
   "language": "python",
   "name": "python3"
  },
  "language_info": {
   "codemirror_mode": {
    "name": "ipython",
    "version": 3
   },
   "file_extension": ".py",
   "mimetype": "text/x-python",
   "name": "python",
   "nbconvert_exporter": "python",
   "pygments_lexer": "ipython3",
   "version": "3.10.4"
  }
 },
 "nbformat": 4,
 "nbformat_minor": 5
}
