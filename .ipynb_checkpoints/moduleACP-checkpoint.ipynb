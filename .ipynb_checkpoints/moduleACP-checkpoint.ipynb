{
 "cells": [
  {
   "cell_type": "markdown",
   "metadata": {},
   "source": [
    "# Module ACP"
   ]
  },
  {
   "cell_type": "code",
   "execution_count": 1,
   "metadata": {},
   "outputs": [],
   "source": [
    "import numpy as np\n",
    "import pandas as pd\n",
    "import matplotlib\n",
    "import matplotlib.pyplot as plt\n",
    "\n",
    "from utilities import *"
   ]
  },
  {
   "cell_type": "code",
   "execution_count": 8,
   "metadata": {},
   "outputs": [],
   "source": [
    "def acp (nb_variable):\n",
    "    \n",
    "    #chargement des données\n",
    "    X, y, Xtest, yt = load_data()\n",
    "    Xr=X.reshape(X.shape[0],X.shape[1]*X.shape[2])\n",
    "    maximum = Xr.shape[1]\n",
    "    \n",
    "    if nb_variable> maximum:\n",
    "        print(\"Trop de variable prise en compte. Choisir un nombre entre 1 et\",maximum)\n",
    "        raise\n",
    "    \n",
    "    # etape 1 : avoir la matrice de correlation\n",
    "    Cor=np.corrcoef(Xr.T)\n",
    "    # etape 2 : déterminer ses valeurs propres\n",
    "    vals_propres,P = np.linalg.eig(Cor)\n",
    "\n",
    "\n",
    "    # Calculer l'inertie de la composante principale et du plan principal\n",
    "    inertie_total = sum(vals_propres)\n",
    "    inertie_pp = (vals_propres[0]+vals_propres[1])/inertie_total\n",
    "    \n",
    "    inertie = sum(val_propres[:nb_variable])/inertie_total\n",
    "    \n",
    "    #dessin \n",
    "    liste = [i for i in range(nb_variable)] \n",
    "\n",
    "    plt.scatter(liste,vals_propres[:nb_variable])\n",
    "    plt.show()\n",
    "    plt.plot(liste,vals_propres[:nb_variable])\n",
    "    plt.title(\"Ebouli des valeurs propres\")\n",
    "    plt.show()\n",
    "\n",
    "    \n",
    "    \n",
    "    return jsp"
   ]
  },
  {
   "cell_type": "code",
   "execution_count": null,
   "metadata": {},
   "outputs": [],
   "source": []
  }
 ],
 "metadata": {
  "kernelspec": {
   "display_name": "Python 3 (ipykernel)",
   "language": "python",
   "name": "python3"
  },
  "language_info": {
   "codemirror_mode": {
    "name": "ipython",
    "version": 3
   },
   "file_extension": ".py",
   "mimetype": "text/x-python",
   "name": "python",
   "nbconvert_exporter": "python",
   "pygments_lexer": "ipython3",
   "version": "3.10.4"
  }
 },
 "nbformat": 4,
 "nbformat_minor": 4
}
