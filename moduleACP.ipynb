{
 "cells": [
  {
   "cell_type": "markdown",
   "metadata": {},
   "source": [
    "# Module ACP"
   ]
  },
  {
   "cell_type": "code",
   "execution_count": 1,
   "metadata": {},
   "outputs": [],
   "source": [
    "import numpy as np\n",
    "import pandas as pd\n",
    "import matplotlib\n",
    "import matplotlib.pyplot as plt\n",
    "\n",
    "from utilities import *"
   ]
  },
  {
   "cell_type": "code",
   "execution_count": 2,
   "metadata": {},
   "outputs": [],
   "source": [
    "def observation():\n",
    "    #mise en place des donnes\n",
    "    X, y, Xtest, yt = load_data()\n",
    "    Xr=X.reshape(X.shape[0],X.shape[1]*X.shape[2])\n",
    "    \n",
    "    # etape 1 : avoir la matrice de correlation\n",
    "    Cor=np.corrcoef(Xr.T)\n",
    "    \n",
    "    # etape 2 : déterminer ses valeurs propres\n",
    "    vals_propres,P = np.linalg.eig(Cor)\n",
    "    \n",
    "    # etape 3 : diagonaliser la matrice de corrélation. Soit P sa matrice de passage\n",
    "    D = np.diag(vals_propres)\n",
    "    \n",
    "    # etape 4 : construire les deux composantes principales\n",
    "    C = np.dot(Xr,P)\n",
    "    Ct = np.transpose(C)\n",
    "    \n",
    "    #on isole nos 2 composantes principales\n",
    "    C1 = Ct[0]\n",
    "    C2 = Ct[1]\n",
    "    \n",
    "    #distinguer les elements, pour ensuite les visuliser\n",
    "    def liste_chien_chat(y,composante):\n",
    "        chien = []\n",
    "        chat = []\n",
    "\n",
    "        for k in range(len(y)):\n",
    "            if y[k] == [0.]:\n",
    "                chat.append(composante[k])\n",
    "            else:\n",
    "                chien.append(composante[k])\n",
    "        return (chien,chat)\n",
    "    \n",
    "    (chien1,chat1) = liste_chien_chat(y,C1)\n",
    "    (chien2,chat2) = liste_chien_chat(y,C2)\n",
    "    \n",
    "    plt.scatter(chien1,chien2,marker='o',color='gold',alpha = 0.7)\n",
    "    plt.scatter(chat1,chat2,marker='.',color='steelblue', alpha = 0.7)\n",
    "    plt.xlabel('CP 1')\n",
    "    plt.ylabel('CP 2')\n",
    "    plt.title(\"Tracé suivant les composantes principales\")\n",
    "    plt.show()\n"
   ]
  },
  {
   "cell_type": "code",
   "execution_count": 6,
   "metadata": {},
   "outputs": [],
   "source": [
    "def acp_premier (nb_variable):\n",
    "    \n",
    "    #chargement des données\n",
    "    X, y, Xtest, yt = load_data()\n",
    "    Xr=X.reshape(X.shape[0],X.shape[1]*X.shape[2])\n",
    "    maximum = Xr.shape[1]\n",
    "    \n",
    "    if nb_variable> maximum:\n",
    "        print(\"Trop de variable prise en compte. Choisir un nombre entre 1 et\",maximum)\n",
    "        raise\n",
    "    \n",
    "    # etape 1 : avoir la matrice de correlation\n",
    "    Cor=np.corrcoef(Xr.T)\n",
    "    # etape 2 : déterminer ses valeurs propres\n",
    "    vals_propres,P = np.linalg.eig(Cor)\n",
    "\n",
    "\n",
    "    # Calculer l'inertie de la composante principale et du plan principal\n",
    "    inertie_total = sum(vals_propres) \n",
    "    vals_propre_reduites = vals_propres[:nb_variable]\n",
    "    inertie_pp = (vals_propres[0]+vals_propres[1])/inertie_total * 100\n",
    "    \n",
    "    inertie = sum(vals_propres[:nb_variable])/inertie_total * 100\n",
    "    \n",
    "    print('Inertie du plan principal = ', inertie_pp,'%')\n",
    "    print('Inertie avec',nb_variable,'=', inertie,'%' )\n",
    "    \n",
    "    #dessin \n",
    "    liste = [i for i in range(nb_variable)]\n",
    "    evol = []\n",
    "    x = 0\n",
    "    for k in vals_propre_reduites:\n",
    "        x += k\n",
    "        evol.append(x/inertie_total * 100)\n",
    "        \n",
    "\n",
    "    plt.plot(liste,evol)\n",
    "    plt.title(\"Evolution de l'inertie en fonction du nombre de composant\")\n",
    "    plt.show()\n",
    "    plt.scatter(liste,vals_propre_reduites)\n",
    "    plt.title(\"Ebouli des valeurs propres\")\n",
    "    plt.show()\n",
    "    "
   ]
  },
  {
   "cell_type": "code",
   "execution_count": 9,
   "metadata": {},
   "outputs": [],
   "source": [
    "def acp_second(X, k):\n",
    "    pca = PCA()\n",
    "    ipca = IncrementalPCA(n_components=k)\n",
    "    image_convertit = []\n",
    "    for new_image in X:\n",
    "        image_convertit.append(ipca.inverse_transform(ipca.fit_transform(new_image)))\n",
    "    return np.array(image_convertit)"
   ]
  },
  {
   "cell_type": "code",
   "execution_count": null,
   "metadata": {},
   "outputs": [],
   "source": []
  }
 ],
 "metadata": {
  "kernelspec": {
   "display_name": "Python 3",
   "language": "python",
   "name": "python3"
  },
  "language_info": {
   "codemirror_mode": {
    "name": "ipython",
    "version": 3
   },
   "file_extension": ".py",
   "mimetype": "text/x-python",
   "name": "python",
   "nbconvert_exporter": "python",
   "pygments_lexer": "ipython3",
   "version": "3.8.10"
  }
 },
 "nbformat": 4,
 "nbformat_minor": 4
}
